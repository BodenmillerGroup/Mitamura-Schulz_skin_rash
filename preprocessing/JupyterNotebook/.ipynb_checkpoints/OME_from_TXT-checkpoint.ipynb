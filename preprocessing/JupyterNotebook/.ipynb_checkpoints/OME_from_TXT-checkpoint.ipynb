{
 "cells": [
  {
   "cell_type": "markdown",
   "metadata": {},
   "source": [
    "This code can be used in case one finds corrupted MCD files for which the MCD file is still being use by the IMC preprocessing pipeline.\n",
    "\n",
    "input:\n",
    "'fn': select the input txt file\n",
    "'imw': select the path where to save the ome.tiff.\n",
    "\n",
    "if you stick to the naming convention of the pipeline you can replace this ome.tiff file with the corrupt one in the ometiff folder. the remaining pre-processing pipeline uses ome.tiffs and can therefore process this fixed file."
   ]
  },
  {
   "cell_type": "code",
   "execution_count": 10,
   "metadata": {},
   "outputs": [],
   "source": [
    "import imctools.io.txtparser as txtparser"
   ]
  },
  {
   "cell_type": "code",
   "execution_count": 18,
   "metadata": {},
   "outputs": [],
   "source": [
    "fn = '/mnt/immucan_volume/raw_data/Panel_1/Batch20191023/Batch20191023_S-190701-00035_TXT/IMMUcan_Batch20191023_S-190701-00035/IMMUcan_Batch20191023_S-190701-00035_pos1_1_1.txt'"
   ]
  },
  {
   "cell_type": "code",
   "execution_count": 19,
   "metadata": {},
   "outputs": [],
   "source": [
    "ac_txt =txtparser.TxtParser(fn)"
   ]
  },
  {
   "cell_type": "code",
   "execution_count": 20,
   "metadata": {},
   "outputs": [],
   "source": [
    "imcac = ac_txt.get_imc_acquisition()"
   ]
  },
  {
   "cell_type": "code",
   "execution_count": 21,
   "metadata": {},
   "outputs": [],
   "source": [
    "imw = imcac.get_image_writer('/mnt/immucan_volume/processed_data/Panel_1/Batch20191023/IMMUcan_Batch20191023_panel_1_1_1.05/ometiff/IMMUcan_Batch20191023_S-190701-00035_s0_p15_r1_a1_ac.ome_2.tiff')"
   ]
  },
  {
   "cell_type": "code",
   "execution_count": 22,
   "metadata": {},
   "outputs": [],
   "source": [
    "imw.save_image(mode='ome')"
   ]
  },
  {
   "cell_type": "markdown",
   "metadata": {},
   "source": []
  }
 ],
 "metadata": {
  "kernelspec": {
   "display_name": "Python 3",
   "language": "python",
   "name": "python3"
  },
  "language_info": {
   "codemirror_mode": {
    "name": "ipython",
    "version": 3
   },
   "file_extension": ".py",
   "mimetype": "text/x-python",
   "name": "python",
   "nbconvert_exporter": "python",
   "pygments_lexer": "ipython3",
   "version": "3.7.4"
  }
 },
 "nbformat": 4,
 "nbformat_minor": 2
}
